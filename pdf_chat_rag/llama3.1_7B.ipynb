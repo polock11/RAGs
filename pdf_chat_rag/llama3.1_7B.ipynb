{
 "cells": [
  {
   "cell_type": "markdown",
   "metadata": {},
   "source": [
    "## PDF Ingestion"
   ]
  },
  {
   "cell_type": "code",
   "execution_count": 3,
   "metadata": {},
   "outputs": [],
   "source": [
    "from langchain_community.document_loaders import PyPDFLoader\n",
    "\n",
    "local_path = \"WEF_The_Global_Cooperation_Barometer_2024.pdf\"\n",
    "\n",
    "loader = PyPDFLoader(local_path)\n",
    "pages = loader.load()\n"
   ]
  },
  {
   "cell_type": "markdown",
   "metadata": {},
   "source": [
    "## Vector DB Setup"
   ]
  },
  {
   "cell_type": "code",
   "execution_count": 5,
   "metadata": {},
   "outputs": [],
   "source": [
    "from langchain_community.embeddings import OllamaEmbeddings\n",
    "from langchain_text_splitters import RecursiveCharacterTextSplitter\n",
    "from langchain_community.vectorstores import Chroma\n",
    "\n",
    "#Split and Chunk\n",
    "text_splitter = RecursiveCharacterTextSplitter(chunk_size=7500, chunk_overlap=100)\n",
    "chunks = text_splitter.split_documents(pages)\n"
   ]
  },
  {
   "cell_type": "code",
   "execution_count": 6,
   "metadata": {},
   "outputs": [
    {
     "name": "stdout",
     "output_type": "stream",
     "text": [
      "NAME                   \tID          \tSIZE  \tMODIFIED       \n",
      "nomic-embed-text:latest\t0a109f422b47\t274 MB\t22 minutes ago\t\n",
      "llama3.1:latest        \t42182419e950\t4.7 GB\t17 hours ago  \t\n"
     ]
    }
   ],
   "source": [
    "!ollama list"
   ]
  },
  {
   "cell_type": "code",
   "execution_count": 9,
   "metadata": {},
   "outputs": [
    {
     "name": "stderr",
     "output_type": "stream",
     "text": [
      "OllamaEmbeddings: 100%|██████████| 26/26 [00:03<00:00,  8.57it/s]\n"
     ]
    }
   ],
   "source": [
    "#add to vetcor db\n",
    "vector_db = Chroma.from_documents(\n",
    "    documents=chunks,\n",
    "    embedding=OllamaEmbeddings(model='nomic-embed-text', show_progress=True),\n",
    "    collection_name='local_rag'\n",
    ")"
   ]
  },
  {
   "cell_type": "markdown",
   "metadata": {},
   "source": [
    "## Retrieval"
   ]
  },
  {
   "cell_type": "code",
   "execution_count": 10,
   "metadata": {},
   "outputs": [],
   "source": [
    "from langchain.prompts import ChatPromptTemplate, PromptTemplate\n",
    "from langchain_core.output_parsers import StrOutputParser\n",
    "from langchain_community.chat_models import ChatOllama\n",
    "from langchain_core.runnables import RunnablePassthrough\n",
    "from langchain.retrievers.multi_query import MultiQueryRetriever"
   ]
  },
  {
   "cell_type": "code",
   "execution_count": 11,
   "metadata": {},
   "outputs": [],
   "source": [
    "MODEL = 'llama3.1'\n",
    "model = ChatOllama(model=MODEL)"
   ]
  },
  {
   "cell_type": "code",
   "execution_count": 12,
   "metadata": {},
   "outputs": [],
   "source": [
    "QUERY_PROMPT = PromptTemplate(\n",
    "    input_variables=[\"question\"],\n",
    "    template=\"\"\"You are an AI language model assistant. Your task is to generate five\n",
    "    different versions of the given user question to retrieve relevant documents from\n",
    "    a vector database. By generating multiple perspectives on the user question, your\n",
    "    goal is to help the user overcome some of the limitations of the distance-based\n",
    "    similarity search. Provide these alternative questions separated by newlines.\n",
    "    Original question: {question}\"\"\",\n",
    ")"
   ]
  },
  {
   "cell_type": "code",
   "execution_count": 13,
   "metadata": {},
   "outputs": [],
   "source": [
    "retriever = MultiQueryRetriever.from_llm(\n",
    "    vector_db.as_retriever(),\n",
    "    model,\n",
    "    prompt=QUERY_PROMPT\n",
    ")\n",
    "\n",
    "template = \"\"\"\n",
    "Answer the question below based on the the context, If you \n",
    "don't know the answer, replay that I don't know the answer. \n",
    "\n",
    "Context : {context}\n",
    "Question : {question}\n",
    "\"\"\"\n",
    "prompt = ChatPromptTemplate.from_template(template=template)"
   ]
  },
  {
   "cell_type": "code",
   "execution_count": 14,
   "metadata": {},
   "outputs": [],
   "source": [
    "chain = (\n",
    "    {\"context\": retriever, \"question\": RunnablePassthrough()}\n",
    "    | prompt\n",
    "    | model\n",
    "    | StrOutputParser()\n",
    ")"
   ]
  },
  {
   "cell_type": "code",
   "execution_count": 15,
   "metadata": {},
   "outputs": [
    {
     "name": "stderr",
     "output_type": "stream",
     "text": [
      "OllamaEmbeddings: 100%|██████████| 1/1 [00:04<00:00,  4.83s/it]\n",
      "OllamaEmbeddings: 100%|██████████| 1/1 [00:00<00:00, 42.18it/s]\n",
      "OllamaEmbeddings: 100%|██████████| 1/1 [00:00<00:00, 37.09it/s]\n",
      "OllamaEmbeddings: 100%|██████████| 1/1 [00:00<00:00, 40.89it/s]\n",
      "OllamaEmbeddings: 100%|██████████| 1/1 [00:00<00:00, 49.40it/s]\n",
      "OllamaEmbeddings: 100%|██████████| 1/1 [00:00<00:00, 58.79it/s]\n",
      "OllamaEmbeddings: 100%|██████████| 1/1 [00:00<00:00, 49.38it/s]\n",
      "OllamaEmbeddings: 100%|██████████| 1/1 [00:00<00:00, 53.06it/s]\n",
      "OllamaEmbeddings: 100%|██████████| 1/1 [00:00<00:00, 53.17it/s]\n",
      "OllamaEmbeddings: 100%|██████████| 1/1 [00:00<00:00, 58.42it/s]\n",
      "OllamaEmbeddings: 100%|██████████| 1/1 [00:00<00:00, 50.30it/s]\n",
      "OllamaEmbeddings: 100%|██████████| 1/1 [00:00<00:00, 45.37it/s]\n"
     ]
    },
    {
     "data": {
      "text/plain": [
       "'This article appears to be a summary of the Global Cooperation Barometer 2024 report by the World Economic Forum (WEF). It discusses trends and developments in global cooperation, particularly in the areas of trade and capital flows. The article highlights the moderate growth in cooperation between 2012-2020, followed by pandemic-related disruptions and subsequent recovery. It also explores questions around inclusive potential, trade barriers, and the need for leaders to rebuild economic connections to promote growth, diversity, resilience, and social inclusion.\\n\\nSome specific points discussed in the article include:\\n\\n* The increase in foreign direct investment (FDI) stock from 30% of GDP in 2012 to 49% in 2020\\n* The mixed story of trade, with services flows rising but goods flows declining between 2012-2020\\n* The rebounding of trade after the initial pandemic shock, with goods flows reaching a historical peak at 51% of GDP in 2022\\n* The normalization of capital flows after an initial surge during the pandemic\\n* Concerns around trade barriers and their potential impact on economic growth and productivity diffusion\\n* Opportunities for global participation in trade and capital flows, particularly through increased trade with emerging market economies\\n\\nOverall, the article seems to be exploring themes related to global cooperation, economic development, and social inclusion.'"
      ]
     },
     "execution_count": 15,
     "metadata": {},
     "output_type": "execute_result"
    }
   ],
   "source": [
    "chain.invoke(input(\"\"))"
   ]
  },
  {
   "cell_type": "code",
   "execution_count": 16,
   "metadata": {},
   "outputs": [
    {
     "name": "stderr",
     "output_type": "stream",
     "text": [
      "OllamaEmbeddings: 100%|██████████| 1/1 [00:00<00:00,  2.75it/s]\n",
      "OllamaEmbeddings: 100%|██████████| 1/1 [00:00<00:00, 75.20it/s]\n",
      "OllamaEmbeddings: 100%|██████████| 1/1 [00:00<00:00, 79.38it/s]\n",
      "OllamaEmbeddings: 100%|██████████| 1/1 [00:00<00:00, 72.41it/s]\n",
      "OllamaEmbeddings: 100%|██████████| 1/1 [00:00<00:00, 73.07it/s]\n",
      "OllamaEmbeddings: 100%|██████████| 1/1 [00:00<00:00, 71.74it/s]\n"
     ]
    },
    {
     "data": {
      "text/plain": [
       "'The text does not explicitly mention the \"5 pillars\" of global cooperation. However, it does discuss the trade and capital pillar in some detail.\\n\\nIn the provided snippet, there is a discussion about growth in global cooperation across different sectors, but the term \"pillars\" itself is not used to categorize these sectors or areas of cooperation.\\n\\nIf you\\'re looking for information on the 5 pillars of global cooperation, I\\'d be happy to try and help you find it. However, based on this text alone, we can only infer that one specific pillar (trade and capital) has been discussed.'"
      ]
     },
     "execution_count": 16,
     "metadata": {},
     "output_type": "execute_result"
    }
   ],
   "source": [
    "chain.invoke(\"What are the 5 pillars of global cooperation?\")"
   ]
  }
 ],
 "metadata": {
  "kernelspec": {
   "display_name": ".venv",
   "language": "python",
   "name": "python3"
  },
  "language_info": {
   "codemirror_mode": {
    "name": "ipython",
    "version": 3
   },
   "file_extension": ".py",
   "mimetype": "text/x-python",
   "name": "python",
   "nbconvert_exporter": "python",
   "pygments_lexer": "ipython3",
   "version": "3.11.4"
  }
 },
 "nbformat": 4,
 "nbformat_minor": 2
}
