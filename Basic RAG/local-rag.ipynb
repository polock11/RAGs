{
 "cells": [
  {
   "cell_type": "code",
   "execution_count": 1,
   "metadata": {},
   "outputs": [
    {
     "name": "stdout",
     "output_type": "stream",
     "text": [
      "I couldn't find any information on a person named Shakib Pollock. It's possible that the name is misspelled, or he may not be a public figure.\n",
      "\n",
      "However, I found that there is a famous cricketer named Shakib Al Hasan, also known as Shakib Al Hasin, who is a Bangladeshi international cricketer. He has been one of the most successful and prominent cricketers from Bangladesh. If you're looking for his CV, I can try to help with that.\n",
      "\n",
      "As for a person named Pollock, I'm not aware of any well-known or famous individuals with that last name who are associated with sports or cricket in particular.\n",
      "\n",
      "If you could provide more context or clarify the correct name, I'd be happy to try and assist further!\n"
     ]
    }
   ],
   "source": [
    "from langchain_community.llms import Ollama\n",
    "\n",
    "MODEL = 'llama3.1'\n",
    "\n",
    "model = Ollama(model=MODEL)\n",
    "\n",
    "print(model.invoke('Do you have any idea about Shakib Polock\"s cv?'))"
   ]
  },
  {
   "cell_type": "code",
   "execution_count": 15,
   "metadata": {},
   "outputs": [
    {
     "name": "stdout",
     "output_type": "stream",
     "text": [
      "Nice to meet you. I'm an artificial intelligence model known as Llama (pronounced \"Lama\"). Llama stands for \"Large Language Model Application.\"\n"
     ]
    }
   ],
   "source": [
    "from langchain_core.output_parsers import StrOutputParser\n",
    "\n",
    "parser = StrOutputParser()\n",
    "\n",
    "chain = model | parser\n",
    "print(chain.invoke('intorduce youself'))"
   ]
  },
  {
   "cell_type": "code",
   "execution_count": 16,
   "metadata": {},
   "outputs": [
    {
     "name": "stderr",
     "output_type": "stream",
     "text": [
      "Ignoring wrong pointing object 6 0 (offset 0)\n",
      "Ignoring wrong pointing object 8 0 (offset 0)\n",
      "Ignoring wrong pointing object 13 0 (offset 0)\n",
      "Ignoring wrong pointing object 15 0 (offset 0)\n",
      "Ignoring wrong pointing object 18 0 (offset 0)\n",
      "Ignoring wrong pointing object 20 0 (offset 0)\n",
      "Ignoring wrong pointing object 23 0 (offset 0)\n",
      "Ignoring wrong pointing object 38 0 (offset 0)\n",
      "Ignoring wrong pointing object 43 0 (offset 0)\n",
      "Ignoring wrong pointing object 45 0 (offset 0)\n",
      "Ignoring wrong pointing object 48 0 (offset 0)\n",
      "Ignoring wrong pointing object 51 0 (offset 0)\n",
      "Ignoring wrong pointing object 53 0 (offset 0)\n"
     ]
    }
   ],
   "source": [
    "#PDF Processing\n",
    "\n",
    "from langchain_community.document_loaders import PyPDFLoader\n",
    "\n",
    "loader = PyPDFLoader('Shakib_CV.pdf')\n",
    "pages = loader.load_and_split()\n"
   ]
  },
  {
   "cell_type": "code",
   "execution_count": 17,
   "metadata": {},
   "outputs": [
    {
     "name": "stdout",
     "output_type": "stream",
     "text": [
      "\n",
      "Answer the question below based on the the context, If you \n",
      "don't know the answer, replay that I don't know the answer. \n",
      "\n",
      "Context : Here is the context\n",
      "Question : Here is the question\n",
      "\n"
     ]
    }
   ],
   "source": [
    "from langchain.prompts import PromptTemplate\n",
    "\n",
    "template = \"\"\"\n",
    "Answer the question below based on the the context, If you \n",
    "don't know the answer, replay that I don't know the answer. \n",
    "\n",
    "Context : {context}\n",
    "Question : {question}\n",
    "\"\"\"\n",
    "\n",
    "prompt = PromptTemplate.from_template(template)\n",
    "print(prompt.format(context='Here is the context', question='Here is the question')) "
   ]
  },
  {
   "cell_type": "code",
   "execution_count": 18,
   "metadata": {},
   "outputs": [],
   "source": [
    "#chain.input_schema.schema()"
   ]
  },
  {
   "cell_type": "code",
   "execution_count": 19,
   "metadata": {},
   "outputs": [
    {
     "name": "stdout",
     "output_type": "stream",
     "text": [
      "I don't have any information about your education level, so... I don't know the answer.\n"
     ]
    }
   ],
   "source": [
    "chain = prompt | model | parser \n",
    "print(chain.invoke({\n",
    "    'context' : 'My name is Shakib Polock and my age is 27',\n",
    "    'question' : 'What is Shakib\"s education level?'\n",
    "}))"
   ]
  },
  {
   "cell_type": "code",
   "execution_count": 20,
   "metadata": {},
   "outputs": [],
   "source": [
    "#Vectore embeddings\n",
    "from langchain_community.embeddings import OllamaEmbeddings\n",
    "from langchain_community.vectorstores import DocArrayInMemorySearch\n",
    "\n",
    "embeddings = OllamaEmbeddings(model=MODEL)\n",
    "vectorestore = DocArrayInMemorySearch.from_documents(\n",
    "    pages,\n",
    "    embedding=embeddings\n",
    ")"
   ]
  },
  {
   "cell_type": "code",
   "execution_count": 9,
   "metadata": {},
   "outputs": [
    {
     "data": {
      "text/plain": [
       "[Document(metadata={'source': 'Shakib_CV.pdf', 'page': 0}, page_content='Shakib Ibna Shameem Polock.                                                                      Cell: +358469386869 | Email: polock.official@gmail.com Location: Oulu, Finland | LinkedIn: https://www.linkedin.com/in/polock11/  About Me Experienced in Python and SQL. Proficient in machine learning, with expertise in data analysis, visualization, and data processing. Enthusiastic about data and capable of solving complex analytical problems. Eager to get involved with latest technologies, and I am open to build end-to-end ML pipelines and models with a strong emphasis on team collaboration and innovation.  Professional Experience  BRAC IT Services Limited                                                                                                                                                 Dhaka, Bangladesh   Data Engineer                                                                                                                                                               Dec 2022 - May 2023  • Coded, tested, and validated data processing pipelines to provide analytics ready data. • Contributed to report automation services from a financial Teradata database. • Prepared dashboards and created visualizations to support management by providing meaningful insights. • Executed data migration and data archiving tasks for optimized database operations. • Performed data cleaning & validation tasks to ensure excellent data quality. • Responded to ad-hoc queries and provided data support to management.    Data Engineer - Internship                                                                                                                                        Sep 2022 – Nov 2022 • Executed queries in database, validated data for reports. • Performed data cleaning tasks. • Attended business solution and technical sessions. • Prepared technical & user documentation from legacy scripts and systems.  Courses & Certifications  • IBM Data Engineering Foundation Specialization Courses: Intro to Data Engineering, Python for Data Science & AI, Python Project for Data Engineering, Intro to RDBMS, Databases & SQL with Python.  • IBM Data Warehouse Engineer Specialization  • BI Foundations with SQL, ETL and Data Warehousing Specialization • Version Control • Towards Data Mining (UniOulu) • Natural Language Processing & Text Mining (UniOulu)  Skills  • Programming: Python, Java • Database: PostgreSQL, PL/PGSQL, MySQL,  • Cloud: IBM Db2, Azure SQL DB • Machine Learning: Python, Scikit-learn, TensorFlow • Data Analysis and visualization: Power BI, Seaborn, Matplotlib, Plotly • Data Processing: Pandas, NumPy • Version control: Git, Github • Orchestration: Apache Airflow • Office Apps:  Microsoft Excel, Microsoft Word, Microsoft PowerPoint • Other tools: Docker, Jira'),\n",
       " Document(metadata={'source': 'Shakib_CV.pdf', 'page': 1}, page_content='Education  Master of Science in Business Analytics   University of Oulu                                                                        Oulu, Finland | Sept 2023 - Present    Bachelor of Science in Computer Science                                                                                                                   CGPA: 3.42 out of 4   BRAC University                                                                                                                                 Dhaka, Bangladesh | Jan 2017 - Apr 2022  Personal Projects  • Market analysis and churn prediction with Decision Tree  • Processed and developed visuals to analyzed telecom customer data. Applied DT with hyperparameter tuning to develop future churn prediction model. • BMW Used car analysis and price prediction  • Found insights and created visuals from the data set, developed price prediction model with linear  regression and analyzed performance KPI’s.  • Global Inc Sales Overview Power BI Dashboard  • Combined, processed and cleaned data of multiple files. Created dashboard to provide convey data insights  super easily for non-technical individuals and upper management.  • Exploratory data analysis of Zomato dataset  • Exploring causal relations among the data.   Languages  • English (Full working proficiency – IELTS 7) • Bengali (Native)  Reference  MD. Mainur Rahman (Character & Competence)   Team Lead, Data & Solutions, BRAC IT Services | Email: mdmainur.rahman@bracits.com      Iqbal Bin Imran (Character)   Researcher, Organic analytics (LC-MS), Neste | Email: iqbal.imran@neste.com')]"
      ]
     },
     "execution_count": 9,
     "metadata": {},
     "output_type": "execute_result"
    }
   ],
   "source": [
    "retriever = vectorestore.as_retriever()\n",
    "retriever.invoke('Shakib')"
   ]
  },
  {
   "cell_type": "code",
   "execution_count": 10,
   "metadata": {},
   "outputs": [],
   "source": [
    "#Setting Up RAG Chain\n",
    "\n",
    "from operator import itemgetter\n",
    "\n",
    "chain = (\n",
    "    {\n",
    "        'context': itemgetter('question') | retriever,\n",
    "        'question': itemgetter('question'),\n",
    "    }\n",
    "    | prompt\n",
    "    | model\n",
    "    | parser\n",
    ")"
   ]
  },
  {
   "cell_type": "code",
   "execution_count": 11,
   "metadata": {},
   "outputs": [],
   "source": [
    "questions = [\n",
    "    'What are Shakib\"s university names?',\n",
    "    'Based on Shakib\"s skills, what are the jobs are suitable for him?',\n",
    "    'Give a summary of Shakib\"s past experiences',\n",
    "    'What is Shakib\"s mother name?',\n",
    "    'Does he has any certifications, if so, what are they?',\n",
    "    'What are some of the Shakib\"s achievements?'\n",
    "]"
   ]
  },
  {
   "cell_type": "code",
   "execution_count": 12,
   "metadata": {},
   "outputs": [
    {
     "name": "stdout",
     "output_type": "stream",
     "text": [
      "Question: What are Shakib\"s university names?\n",
      "Answer: Shakib's universities are:\n",
      "\n",
      "1. University of Oulu (located in Finland)\n",
      "2. BRAC University (located in Bangladesh)\n",
      "\n",
      "Question: Based on Shakib\"s skills, what are the jobs are suitable for him?\n",
      "Answer: Based on Shakib's skills and experience, here are some job roles that seem to be a good fit:\n",
      "\n",
      "1. **Data Scientist**: With his expertise in machine learning, data analysis, visualization, and processing, he can excel as a Data Scientist.\n",
      "2. **Business Intelligence Developer**: His proficiency in Power BI, Seaborn, Matplotlib, and Plotly makes him suitable for a Business Intelligence Developer role.\n",
      "3. **Data Engineer**: Given his experience in coding, testing, and validating data processing pipelines, as well as his skills in Apache Airflow and version control, he can be an excellent Data Engineer.\n",
      "4. **Business Analyst**: Shakib's analytical mindset, combined with his experience in data analysis and visualization, makes him a suitable candidate for a Business Analyst role.\n",
      "5. **Data Architect**: His expertise in data processing, machine learning, and database management (PostgreSQL, PL/PGSQL, MySQL) can be valuable as a Data Architect.\n",
      "6. **Quantitative Researcher**: Shakib's skills in data analysis, visualization, and machine learning make him suitable for a Quantitative Researcher role, especially in finance or economics.\n",
      "\n",
      "These are just some examples based on Shakib's profile; there may be other roles that fit his skills and experience as well!\n",
      "\n",
      "Question: Give a summary of Shakib\"s past experiences\n",
      "Answer: Based on the provided context, here is a summary of Shakib's past experiences:\n",
      "\n",
      "Shakib has experience as a Data Engineer at BRAC IT Services Limited (Dec 2022 - May 2023) and as a Data Engineer Internship (Sep 2022 – Nov 2022). In these roles, he performed various tasks such as coding, testing, and validating data processing pipelines, contributing to report automation services, preparing dashboards and visualizations, executing data migration and archiving tasks, performing data cleaning and validation, and responding to ad-hoc queries.\n",
      "\n",
      "Additionally, Shakib has also worked on personal projects involving market analysis and churn prediction with Decision Tree, processed and developed visuals for telecom customer data, analyzed BMW used car prices using linear regression, created a Power BI dashboard for Global Inc Sales Overview, and explored causal relations in Zomato dataset.\n",
      "\n",
      "Question: What is Shakib\"s mother name?\n",
      "Answer: I don't know the answer.\n",
      "\n",
      "Question: Does he has any certifications, if so, what are they?\n",
      "Answer: Yes, he has some certifications. According to the context, his certifications are:\n",
      "\n",
      "* IBM Data Engineering Foundation Specialization Courses (multiple courses)\n",
      "* IBM Data Warehouse Engineer Specialization\n",
      "* BI Foundations with SQL, ETL and Data Warehousing Specialization\n",
      "* Version Control \n",
      "* Towards Data Mining (UniOulu) \n",
      "* Natural Language Processing & Text Mining (UniOulu)\n",
      "\n",
      "Question: What are some of the Shakib\"s achievements?\n",
      "Answer: According to the context, here are some of Shakib's achievements:\n",
      "\n",
      "* Master of Science in Business Analytics from University of Oulu (currently pursuing)\n",
      "* CGPA: 3.42 out of 4 from BRAC University for Bachelor of Science in Computer Science\n",
      "* Successfully worked on personal projects such as:\n",
      "\t+ Market analysis and churn prediction with Decision Tree\n",
      "\t+ Processed and developed visuals to analyzed telecom customer data\n",
      "\t+ BMW Used car analysis and price prediction\n",
      "\t+ Global Inc Sales Overview Power BI Dashboard\n",
      "\t+ Exploratory data analysis of Zomato dataset\n",
      "\n",
      "Note that these are just some examples, and there might be other achievements mentioned in the context that are not listed here.\n",
      "\n"
     ]
    }
   ],
   "source": [
    "for question in questions:\n",
    "    print(f\"Question: {question}\")\n",
    "    print(f\"Answer: {chain.invoke({'question': question})}\")\n",
    "    print()"
   ]
  },
  {
   "cell_type": "code",
   "execution_count": 13,
   "metadata": {},
   "outputs": [],
   "source": [
    "#print(chain.invoke({\"question\": 'Based on Shakib\"s skills, what are the jobs are suitable for him?'}))"
   ]
  }
 ],
 "metadata": {
  "kernelspec": {
   "display_name": "streamlitEnv",
   "language": "python",
   "name": "python3"
  },
  "language_info": {
   "codemirror_mode": {
    "name": "ipython",
    "version": 3
   },
   "file_extension": ".py",
   "mimetype": "text/x-python",
   "name": "python",
   "nbconvert_exporter": "python",
   "pygments_lexer": "ipython3",
   "version": "3.11.4"
  }
 },
 "nbformat": 4,
 "nbformat_minor": 2
}
