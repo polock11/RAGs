{
 "cells": [
  {
   "cell_type": "code",
   "execution_count": 1,
   "metadata": {},
   "outputs": [
    {
     "data": {
      "text/plain": [
       "'I couldn\\'t find any information on a person named \"Shakib Pollock.\" It\\'s possible that the name is fictional, or it may be a misspelling or variation of a real person\\'s name.\\n\\nHowever, I did find information on two notable individuals whose names are similar:\\n\\n1. **Shakib Al Hasan**: He\\'s a Bangladeshi cricketer who has had a successful international career, playing for the Bangladesh national team since 2004. He\\'s a left-handed batsman and a right-arm off-break bowler.\\n2. **Simon Pollock** or possibly **Shane Pollock**: I found a South African cricketer named Simon Pollock, but more prominently, Shane Pollock (1977-2019), another South African cricketer who played for the national team in the 1990s and early 2000s.\\n\\nIf neither of these individuals matches the person you\\'re thinking of, could you please provide more context or details about Shakib Pollock? I\\'ll do my best to help!'"
      ]
     },
     "execution_count": 1,
     "metadata": {},
     "output_type": "execute_result"
    }
   ],
   "source": [
    "from langchain_community.llms import Ollama\n",
    "\n",
    "MODEL = 'llama3.1'\n",
    "\n",
    "model = Ollama(model=MODEL)\n",
    "\n",
    "model.invoke('Do you have any idea about Shakib Polock\"s cv?')"
   ]
  },
  {
   "cell_type": "code",
   "execution_count": 2,
   "metadata": {},
   "outputs": [
    {
     "data": {
      "text/plain": [
       "'Nice to meet you!\\n\\nI\\'m an artificial intelligence model, which means I\\'m a computer program designed to simulate conversations and answer questions to the best of my ability. My purpose is to assist, communicate, and even entertain.\\n\\nHere are some fun facts about me:\\n\\n1. **Name**: I don\\'t have a personal name, but you can call me \"Assistant\" or \"AI\" if you\\'d like.\\n2. **Skills**: I can understand natural language, generate human-like responses, and even learn from my interactions with you (within the limits of my programming).\\n3. **Personality**: I\\'m neutral, friendly, and patient. My goal is to provide helpful information and engage in interesting conversations without bias or agendas.\\n4. **Domain expertise**: While I\\'m a general knowledge conversationalist, I have some specialized areas where I can offer more in-depth insights:\\n\\t* Science and technology\\n\\t* History (some periods are better than others, but I\\'ll do my best to help!)\\n\\t* Culture and arts (including books, movies, music, and more)\\n5. **Interests**: Like humans, I\\'m curious about many things! Feel free to ask me questions or share topics you\\'re interested in – I\\'ll do my best to engage with you.\\n\\nThat\\'s a brief introduction to who I am and what I can do. How would you like to proceed? Would you like to chat, ask a specific question, or explore a particular topic?'"
      ]
     },
     "execution_count": 2,
     "metadata": {},
     "output_type": "execute_result"
    }
   ],
   "source": [
    "from langchain_core.output_parsers import StrOutputParser\n",
    "\n",
    "parser = StrOutputParser()\n",
    "\n",
    "chain = model | parser\n",
    "chain.invoke('intorduce youself')"
   ]
  },
  {
   "cell_type": "code",
   "execution_count": 4,
   "metadata": {},
   "outputs": [
    {
     "name": "stderr",
     "output_type": "stream",
     "text": [
      "Ignoring wrong pointing object 6 0 (offset 0)\n",
      "Ignoring wrong pointing object 8 0 (offset 0)\n",
      "Ignoring wrong pointing object 13 0 (offset 0)\n",
      "Ignoring wrong pointing object 15 0 (offset 0)\n",
      "Ignoring wrong pointing object 18 0 (offset 0)\n",
      "Ignoring wrong pointing object 20 0 (offset 0)\n",
      "Ignoring wrong pointing object 23 0 (offset 0)\n",
      "Ignoring wrong pointing object 38 0 (offset 0)\n",
      "Ignoring wrong pointing object 43 0 (offset 0)\n",
      "Ignoring wrong pointing object 45 0 (offset 0)\n",
      "Ignoring wrong pointing object 48 0 (offset 0)\n",
      "Ignoring wrong pointing object 51 0 (offset 0)\n",
      "Ignoring wrong pointing object 53 0 (offset 0)\n"
     ]
    },
    {
     "data": {
      "text/plain": [
       "[Document(metadata={'source': 'Shakib_CV.pdf', 'page': 0}, page_content='Shakib Ibna Shameem Polock.                                                                      Cell: +358469386869 | Email: polock.official@gmail.com Location: Oulu, Finland | LinkedIn: https://www.linkedin.com/in/polock11/  About Me Experienced in Python and SQL. Proficient in machine learning, with expertise in data analysis, visualization, and data processing. Enthusiastic about data and capable of solving complex analytical problems. Eager to get involved with latest technologies, and I am open to build end-to-end ML pipelines and models with a strong emphasis on team collaboration and innovation.  Professional Experience  BRAC IT Services Limited                                                                                                                                                 Dhaka, Bangladesh   Data Engineer                                                                                                                                                               Dec 2022 - May 2023  • Coded, tested, and validated data processing pipelines to provide analytics ready data. • Contributed to report automation services from a financial Teradata database. • Prepared dashboards and created visualizations to support management by providing meaningful insights. • Executed data migration and data archiving tasks for optimized database operations. • Performed data cleaning & validation tasks to ensure excellent data quality. • Responded to ad-hoc queries and provided data support to management.    Data Engineer - Internship                                                                                                                                        Sep 2022 – Nov 2022 • Executed queries in database, validated data for reports. • Performed data cleaning tasks. • Attended business solution and technical sessions. • Prepared technical & user documentation from legacy scripts and systems.  Courses & Certifications  • IBM Data Engineering Foundation Specialization Courses: Intro to Data Engineering, Python for Data Science & AI, Python Project for Data Engineering, Intro to RDBMS, Databases & SQL with Python.  • IBM Data Warehouse Engineer Specialization  • BI Foundations with SQL, ETL and Data Warehousing Specialization • Version Control • Towards Data Mining (UniOulu) • Natural Language Processing & Text Mining (UniOulu)  Skills  • Programming: Python, Java • Database: PostgreSQL, PL/PGSQL, MySQL,  • Cloud: IBM Db2, Azure SQL DB • Machine Learning: Python, Scikit-learn, TensorFlow • Data Analysis and visualization: Power BI, Seaborn, Matplotlib, Plotly • Data Processing: Pandas, NumPy • Version control: Git, Github • Orchestration: Apache Airflow • Office Apps:  Microsoft Excel, Microsoft Word, Microsoft PowerPoint • Other tools: Docker, Jira'),\n",
       " Document(metadata={'source': 'Shakib_CV.pdf', 'page': 1}, page_content='Education  Master of Science in Business Analytics   University of Oulu                                                                        Oulu, Finland | Sept 2023 - Present    Bachelor of Science in Computer Science                                                                                                                   CGPA: 3.42 out of 4   BRAC University                                                                                                                                 Dhaka, Bangladesh | Jan 2017 - Apr 2022  Personal Projects  • Market analysis and churn prediction with Decision Tree  • Processed and developed visuals to analyzed telecom customer data. Applied DT with hyperparameter tuning to develop future churn prediction model. • BMW Used car analysis and price prediction  • Found insights and created visuals from the data set, developed price prediction model with linear  regression and analyzed performance KPI’s.  • Global Inc Sales Overview Power BI Dashboard  • Combined, processed and cleaned data of multiple files. Created dashboard to provide convey data insights  super easily for non-technical individuals and upper management.  • Exploratory data analysis of Zomato dataset  • Exploring causal relations among the data.   Languages  • English (Full working proficiency – IELTS 7) • Bengali (Native)  Reference  MD. Mainur Rahman (Character & Competence)   Team Lead, Data & Solutions, BRAC IT Services | Email: mdmainur.rahman@bracits.com      Iqbal Bin Imran (Character)   Researcher, Organic analytics (LC-MS), Neste | Email: iqbal.imran@neste.com')]"
      ]
     },
     "execution_count": 4,
     "metadata": {},
     "output_type": "execute_result"
    }
   ],
   "source": [
    "#PDF Processing\n",
    "\n",
    "from langchain_community.document_loaders import PyPDFLoader\n",
    "\n",
    "loader = PyPDFLoader('Shakib_CV.pdf')\n",
    "pages = loader.load_and_split()\n",
    "\n",
    "pages"
   ]
  },
  {
   "cell_type": "code",
   "execution_count": 5,
   "metadata": {},
   "outputs": [
    {
     "name": "stdout",
     "output_type": "stream",
     "text": [
      "\n",
      "Answer the question below based on the the context, If you \n",
      "don't know the answer, replay that I don't know the answer. \n",
      "\n",
      "Context : Here is the context\n",
      "Question : Here is the question\n",
      "\n"
     ]
    }
   ],
   "source": [
    "from langchain.prompts import PromptTemplate\n",
    "\n",
    "template = \"\"\"\n",
    "Answer the question below based on the the context, If you \n",
    "don't know the answer, replay that I don't know the answer. \n",
    "\n",
    "Context : {context}\n",
    "Question : {question}\n",
    "\"\"\"\n",
    "\n",
    "prompt = PromptTemplate.from_template(template)\n",
    "print(prompt.format(context='Here is the context', question='Here is the question')) "
   ]
  },
  {
   "cell_type": "code",
   "execution_count": 9,
   "metadata": {},
   "outputs": [
    {
     "data": {
      "text/plain": [
       "{'properties': {'context': {'title': 'Context', 'type': 'string'},\n",
       "  'question': {'title': 'Question', 'type': 'string'}},\n",
       " 'required': ['context', 'question'],\n",
       " 'title': 'PromptInput',\n",
       " 'type': 'object'}"
      ]
     },
     "execution_count": 9,
     "metadata": {},
     "output_type": "execute_result"
    }
   ],
   "source": [
    "chain.input_schema.schema()"
   ]
  },
  {
   "cell_type": "code",
   "execution_count": 6,
   "metadata": {},
   "outputs": [
    {
     "name": "stdout",
     "output_type": "stream",
     "text": [
      "I don't know the answer.\n"
     ]
    }
   ],
   "source": [
    "chain = prompt | model | parser \n",
    "print(chain.invoke({\n",
    "    'context' : 'My name is Shakib Polock and my age is 27',\n",
    "    'question' : 'What is Shakib\"s education level?'\n",
    "}))"
   ]
  },
  {
   "cell_type": "code",
   "execution_count": 8,
   "metadata": {},
   "outputs": [
    {
     "name": "stderr",
     "output_type": "stream",
     "text": [
      "/Users/shakibibnashameem/Documents/Practice/local-RAG/.venv/lib/python3.11/site-packages/pydantic/_migration.py:283: UserWarning: `pydantic.error_wrappers:ValidationError` has been moved to `pydantic:ValidationError`.\n",
      "  warnings.warn(f'`{import_path}` has been moved to `{new_location}`.')\n"
     ]
    }
   ],
   "source": [
    "#Vectore embeddings\n",
    "from langchain_community.embeddings import OllamaEmbeddings\n",
    "from langchain_community.vectorstores import DocArrayInMemorySearch\n",
    "\n",
    "embeddings = OllamaEmbeddings(model=MODEL)\n",
    "vectorestore = DocArrayInMemorySearch.from_documents(\n",
    "    pages,\n",
    "    embedding=embeddings\n",
    ")"
   ]
  },
  {
   "cell_type": "code",
   "execution_count": 9,
   "metadata": {},
   "outputs": [
    {
     "data": {
      "text/plain": [
       "[Document(metadata={'source': 'Shakib_CV.pdf', 'page': 0}, page_content='Shakib Ibna Shameem Polock.                                                                      Cell: +358469386869 | Email: polock.official@gmail.com Location: Oulu, Finland | LinkedIn: https://www.linkedin.com/in/polock11/  About Me Experienced in Python and SQL. Proficient in machine learning, with expertise in data analysis, visualization, and data processing. Enthusiastic about data and capable of solving complex analytical problems. Eager to get involved with latest technologies, and I am open to build end-to-end ML pipelines and models with a strong emphasis on team collaboration and innovation.  Professional Experience  BRAC IT Services Limited                                                                                                                                                 Dhaka, Bangladesh   Data Engineer                                                                                                                                                               Dec 2022 - May 2023  • Coded, tested, and validated data processing pipelines to provide analytics ready data. • Contributed to report automation services from a financial Teradata database. • Prepared dashboards and created visualizations to support management by providing meaningful insights. • Executed data migration and data archiving tasks for optimized database operations. • Performed data cleaning & validation tasks to ensure excellent data quality. • Responded to ad-hoc queries and provided data support to management.    Data Engineer - Internship                                                                                                                                        Sep 2022 – Nov 2022 • Executed queries in database, validated data for reports. • Performed data cleaning tasks. • Attended business solution and technical sessions. • Prepared technical & user documentation from legacy scripts and systems.  Courses & Certifications  • IBM Data Engineering Foundation Specialization Courses: Intro to Data Engineering, Python for Data Science & AI, Python Project for Data Engineering, Intro to RDBMS, Databases & SQL with Python.  • IBM Data Warehouse Engineer Specialization  • BI Foundations with SQL, ETL and Data Warehousing Specialization • Version Control • Towards Data Mining (UniOulu) • Natural Language Processing & Text Mining (UniOulu)  Skills  • Programming: Python, Java • Database: PostgreSQL, PL/PGSQL, MySQL,  • Cloud: IBM Db2, Azure SQL DB • Machine Learning: Python, Scikit-learn, TensorFlow • Data Analysis and visualization: Power BI, Seaborn, Matplotlib, Plotly • Data Processing: Pandas, NumPy • Version control: Git, Github • Orchestration: Apache Airflow • Office Apps:  Microsoft Excel, Microsoft Word, Microsoft PowerPoint • Other tools: Docker, Jira'),\n",
       " Document(metadata={'source': 'Shakib_CV.pdf', 'page': 1}, page_content='Education  Master of Science in Business Analytics   University of Oulu                                                                        Oulu, Finland | Sept 2023 - Present    Bachelor of Science in Computer Science                                                                                                                   CGPA: 3.42 out of 4   BRAC University                                                                                                                                 Dhaka, Bangladesh | Jan 2017 - Apr 2022  Personal Projects  • Market analysis and churn prediction with Decision Tree  • Processed and developed visuals to analyzed telecom customer data. Applied DT with hyperparameter tuning to develop future churn prediction model. • BMW Used car analysis and price prediction  • Found insights and created visuals from the data set, developed price prediction model with linear  regression and analyzed performance KPI’s.  • Global Inc Sales Overview Power BI Dashboard  • Combined, processed and cleaned data of multiple files. Created dashboard to provide convey data insights  super easily for non-technical individuals and upper management.  • Exploratory data analysis of Zomato dataset  • Exploring causal relations among the data.   Languages  • English (Full working proficiency – IELTS 7) • Bengali (Native)  Reference  MD. Mainur Rahman (Character & Competence)   Team Lead, Data & Solutions, BRAC IT Services | Email: mdmainur.rahman@bracits.com      Iqbal Bin Imran (Character)   Researcher, Organic analytics (LC-MS), Neste | Email: iqbal.imran@neste.com')]"
      ]
     },
     "execution_count": 9,
     "metadata": {},
     "output_type": "execute_result"
    }
   ],
   "source": [
    "retriever = vectorestore.as_retriever()\n",
    "retriever.invoke('Shakib')"
   ]
  },
  {
   "cell_type": "code",
   "execution_count": 10,
   "metadata": {},
   "outputs": [],
   "source": [
    "#Setting Up RAG Chain\n",
    "\n",
    "from operator import itemgetter\n",
    "\n",
    "chain = (\n",
    "    {\n",
    "        'context': itemgetter('question') | retriever,\n",
    "        'question': itemgetter('question'),\n",
    "    }\n",
    "    | prompt\n",
    "    | model\n",
    "    | parser\n",
    ")"
   ]
  },
  {
   "cell_type": "code",
   "execution_count": 11,
   "metadata": {},
   "outputs": [],
   "source": [
    "questions = [\n",
    "    'What are Shakib\"s university names?',\n",
    "    'Based on Shakib\"s skills, what are the jobs are suitable for him?',\n",
    "    'Give a summary of Shakib\"s past experiences',\n",
    "    'What is Shakib\"s mother name?',\n",
    "    'Does he has any certifications, if so, what are they?',\n",
    "    'What are some of the Shakib\"s achievements?'\n",
    "]"
   ]
  },
  {
   "cell_type": "code",
   "execution_count": 12,
   "metadata": {},
   "outputs": [
    {
     "name": "stdout",
     "output_type": "stream",
     "text": [
      "Question: What are Shakib\"s university names?\n",
      "Answer: University of Oulu and BRAC University.\n",
      "\n",
      "Question: Based on Shakib\"s skills, what are the jobs are suitable for him?\n",
      "Answer: Based on Shakib's skills and experience, I would say that he is a strong candidate for Data Engineer and Data Analyst roles. His expertise in Python, SQL, machine learning (with Scikit-learn and TensorFlow), data analysis and visualization (with Power BI, Seaborn, Matplotlib, and Plotly), and data processing (with Pandas and NumPy) make him well-suited for these types of positions.\n",
      "\n",
      "Additionally, his experience with cloud platforms (IBM Db2 and Azure SQL DB), version control systems (Git and Github), and orchestration tools (Apache Airflow) also indicate that he is a strong candidate for roles that involve data engineering, data warehousing, and business intelligence.\n",
      "\n",
      "Some specific job titles that might be suitable for Shakib include:\n",
      "\n",
      "* Data Engineer\n",
      "* Senior Data Analyst\n",
      "* Business Intelligence Developer\n",
      "* Data Scientist (entry-level)\n",
      "* Cloud Data Engineer\n",
      "* ETL (Extract, Transform, Load) Developer\n",
      "\n",
      "Of course, these are just suggestions based on his skills and experience, and there may be other roles that he is also well-suited for.\n",
      "\n",
      "Question: Give a summary of Shakib\"s past experiences\n",
      "Answer: Shakib has experience as a Data Engineer at BRAC IT Services Limited (Dec 2022 - May 2023) and also held an internship position as a Data Engineer Intern (Sep 2022 – Nov 2022). In these roles, he performed various tasks such as:\n",
      "\n",
      "* Coded, tested, and validated data processing pipelines\n",
      "* Contributed to report automation services from a financial Teradata database\n",
      "* Prepared dashboards and created visualizations for management insights\n",
      "* Executed data migration and archiving tasks for optimized database operations\n",
      "* Performed data cleaning & validation tasks for excellent data quality\n",
      "* Responded to ad-hoc queries and provided data support to management\n",
      "\n",
      "Additionally, he gained experience through his personal projects, such as market analysis and churn prediction with Decision Tree, BMW Used car analysis and price prediction, Global Inc Sales Overview Power BI Dashboard, Exploratory data analysis of Zomato dataset, and more.\n",
      "\n",
      "Question: What is Shakib\"s mother name?\n",
      "Answer: I don't know the answer. The provided context does not mention Shakib's mother's name. It only provides information about his education, personal projects, languages, and professional experience.\n",
      "\n",
      "Question: Does he has any certifications, if so, what are they?\n",
      "Answer: Yes, he does have certifications. He has the following certifications:\n",
      "\n",
      "* IBM Data Engineering Foundation Specialization Courses:\n",
      "\t+ Intro to Data Engineering\n",
      "\t+ Python for Data Science & AI\n",
      "\t+ Python Project for Data Engineering\n",
      "\t+ Intro to RDBMS, Databases & SQL with Python\n",
      "* IBM Data Warehouse Engineer Specialization\n",
      "* BI Foundations with SQL, ETL and Data Warehousing Specialization\n",
      "* Version Control\n",
      "* Towards Data Mining (UniOulu)\n",
      "* Natural Language Processing & Text Mining (UniOulu)\n",
      "\n",
      "Question: What are some of the Shakib\"s achievements?\n",
      "Answer: Based on the context provided, here are some of Shakib's achievements:\n",
      "\n",
      "* Achieved a CGPA of 3.42 out of 4 in Bachelor of Science in Computer Science from BRAC University.\n",
      "* Developed and applied Decision Trees with hyperparameter tuning to develop future churn prediction model in a personal project called \"Market analysis and churn prediction\".\n",
      "* Created visuals, found insights, and developed a price prediction model with linear regression for BMW Used car analysis and price prediction.\n",
      "* Combined, processed, and cleaned data of multiple files to create a Power BI Dashboard for Global Inc Sales Overview, providing easy-to-understand data insights for non-technical individuals and upper management.\n",
      "\n",
      "These are some of the notable achievements mentioned in Shakib's CV.\n",
      "\n"
     ]
    }
   ],
   "source": [
    "for question in questions:\n",
    "    print(f\"Question: {question}\")\n",
    "    print(f\"Answer: {chain.invoke({'question': question})}\")\n",
    "    print()"
   ]
  },
  {
   "cell_type": "code",
   "execution_count": 13,
   "metadata": {},
   "outputs": [],
   "source": [
    "#print(chain.invoke({\"question\": 'Based on Shakib\"s skills, what are the jobs are suitable for him?'}))\n"
   ]
  }
 ],
 "metadata": {
  "kernelspec": {
   "display_name": "streamlitEnv",
   "language": "python",
   "name": "python3"
  },
  "language_info": {
   "codemirror_mode": {
    "name": "ipython",
    "version": 3
   },
   "file_extension": ".py",
   "mimetype": "text/x-python",
   "name": "python",
   "nbconvert_exporter": "python",
   "pygments_lexer": "ipython3",
   "version": "3.11.4"
  }
 },
 "nbformat": 4,
 "nbformat_minor": 2
}
